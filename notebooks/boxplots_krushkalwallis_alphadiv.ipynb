{
 "cells": [
  {
   "cell_type": "code",
   "execution_count": 104,
   "metadata": {
    "collapsed": false
   },
   "outputs": [],
   "source": [
    "%matplotlib inline\n",
    "\n",
    "import pandas as pd, numpy as np, seaborn as sns\n",
    "import matplotlib.pyplot as plt\n",
    "\n",
    "#from qiime.parse import parse_mapping_file\n",
    "#from qiime.format import format_mapping_file\n",
    "from skbio.io.util import open_file\n",
    "import scipy.stats \n",
    "plt.rcParams['figure.figsize'] = (20.0, 20.0)\n",
    "sns.set(font_scale=1)"
   ]
  },
  {
   "cell_type": "code",
   "execution_count": 105,
   "metadata": {
    "collapsed": false
   },
   "outputs": [],
   "source": [
    "mapping=pd.read_table(\"/Users/priya/Desktop/Knight-Dorrestein/mnm/Phase3/analysis-w-cornell/mm_ag_seqd_w_alpha.txt\", dtype=str)\n",
    "mapping=mapping.set_index(\"#SampleID\")"
   ]
  },
  {
   "cell_type": "code",
   "execution_count": 106,
   "metadata": {
    "collapsed": false
   },
   "outputs": [],
   "source": [
    "scores=pd.read_table(\"/Users/priya/Desktop/Knight-Dorrestein/mnm/Phase3/mm_scores_0916_raw.txt\", sep='\\t', dtype=str)"
   ]
  },
  {
   "cell_type": "code",
   "execution_count": 107,
   "metadata": {
    "collapsed": false
   },
   "outputs": [],
   "source": [
    "#Kit IDs are actually sample IDs\n",
    "scores=scores.rename(columns={\"KitID\":\"#SampleID\"}) \n",
    "#appending prefix to bring it to AGP format sample ID\n",
    "scores[\"#SampleID\"]=\"10317.0000\"+scores[\"#SampleID\"]"
   ]
  },
  {
   "cell_type": "code",
   "execution_count": 108,
   "metadata": {
    "collapsed": true
   },
   "outputs": [],
   "source": [
    "scores=scores.set_index(\"#SampleID\")"
   ]
  },
  {
   "cell_type": "code",
   "execution_count": 109,
   "metadata": {
    "collapsed": false
   },
   "outputs": [
    {
     "name": "stdout",
     "output_type": "stream",
     "text": [
      "(290, 24)\n",
      "(234, 450)\n"
     ]
    }
   ],
   "source": [
    "print(scores.shape)\n",
    "print(mapping.shape)"
   ]
  },
  {
   "cell_type": "code",
   "execution_count": 110,
   "metadata": {
    "collapsed": true
   },
   "outputs": [],
   "source": [
    "mapping[\"bin_bdi21_score\"]=pd.Series(index=mapping.index)"
   ]
  },
  {
   "cell_type": "code",
   "execution_count": 113,
   "metadata": {
    "collapsed": false
   },
   "outputs": [],
   "source": [
    "count=0\n",
    "for idx in mapping.index:\n",
    "    if idx in scores.index:\n",
    "        mapping.ix[idx,\"bin_bdi21_score\"]=scores.ix[idx, \"BIN_BDI21_SCORE\"]"
   ]
  },
  {
   "cell_type": "code",
   "execution_count": 125,
   "metadata": {
    "collapsed": false
   },
   "outputs": [],
   "source": [
    "mapping['bin_bdi21_score']=pd.to_numeric(mapping['bin_bdi21_score'])\n",
    "mapping[\"PD_whole_tree_even_10000_normalized_alpha\"]=pd.to_numeric(mapping[\"PD_whole_tree_even_10000_normalized_alpha\"])\n",
    "mapping['chao1_even_10000_normalized_alpha']=pd.to_numeric(mapping['chao1_even_10000_normalized_alpha'])\n",
    "mapping['observed_otus_even_10000_normalized_alpha']=pd.to_numeric(mapping['observed_otus_even_10000_normalized_alpha'])"
   ]
  },
  {
   "cell_type": "code",
   "execution_count": 126,
   "metadata": {
    "collapsed": false
   },
   "outputs": [],
   "source": [
    "def bdibinalpha(alphametric):\n",
    "    '''return alpha div values of samples belonging to each of the 4 bdi bins as separate lists'''\n",
    "    bdi1=[]\n",
    "    bdi2=[]\n",
    "    bdi3=[]\n",
    "    bdi4=[]\n",
    "    for samp in mapping.index:\n",
    "        if mapping.ix[samp, \"bin_bdi21_score\"]==1:\n",
    "            bdi1.append(mapping.ix[samp, alphametric])\n",
    "        if mapping.ix[samp, \"bin_bdi21_score\"]==2:\n",
    "            bdi2.append(mapping.ix[samp, alphametric])\n",
    "        if mapping.ix[samp, \"bin_bdi21_score\"]==3:\n",
    "            bdi3.append(mapping.ix[samp, alphametric])\n",
    "        if mapping.ix[samp, \"bin_bdi21_score\"]==4:\n",
    "            bdi4.append(mapping.ix[samp, alphametric])\n",
    "    return [bdi1,bdi2,bdi3,bdi4]"
   ]
  },
  {
   "cell_type": "code",
   "execution_count": 127,
   "metadata": {
    "collapsed": false
   },
   "outputs": [
    {
     "data": {
      "text/plain": [
       "<matplotlib.axes._subplots.AxesSubplot at 0x12177f358>"
      ]
     },
     "execution_count": 127,
     "metadata": {},
     "output_type": "execute_result"
    },
    {
     "data": {
      "image/png": "[encoded data removed]",
      "text/plain": [
       "<matplotlib.figure.Figure at 0x120638898>"
      ]
     },
     "metadata": {},
     "output_type": "display_data"
    }
   ],
   "source": [
    "sns.boxplot(x='bin_bdi21_score', y='PD_whole_tree_even_10000_normalized_alpha', data=mapping)"
   ]
  },
  {
   "cell_type": "code",
   "execution_count": 128,
   "metadata": {
    "collapsed": false
   },
   "outputs": [],
   "source": [
    "alphalistPD=bdibinalpha('PD_whole_tree_even_10000_normalized_alpha')"
   ]
  },
  {
   "cell_type": "code",
   "execution_count": 129,
   "metadata": {
    "collapsed": false
   },
   "outputs": [
    {
     "data": {
      "text/plain": [
       "4"
      ]
     },
     "execution_count": 129,
     "metadata": {},
     "output_type": "execute_result"
    }
   ],
   "source": [
    "len(alphalistPD)"
   ]
  },
  {
   "cell_type": "code",
   "execution_count": 130,
   "metadata": {
    "collapsed": false
   },
   "outputs": [
    {
     "data": {
      "text/plain": [
       "KruskalResult(statistic=0.0023079697078856043, pvalue=0.96168330138748259)"
      ]
     },
     "execution_count": 130,
     "metadata": {},
     "output_type": "execute_result"
    }
   ],
   "source": [
    "scipy.stats.mstats.kruskalwallis(alphalistPD[0],alphalistPD[3]) #p values between bdi 1 and 4 PD values"
   ]
  },
  {
   "cell_type": "code",
   "execution_count": 131,
   "metadata": {
    "collapsed": false
   },
   "outputs": [
    {
     "data": {
      "text/plain": [
       "<matplotlib.axes._subplots.AxesSubplot at 0x121ed1198>"
      ]
     },
     "execution_count": 131,
     "metadata": {},
     "output_type": "execute_result"
    },
    {
     "data": {
      "image/png": "[encoded data removed]",
      "text/plain": [
       "<matplotlib.figure.Figure at 0x121ebff60>"
      ]
     },
     "metadata": {},
     "output_type": "display_data"
    }
   ],
   "source": [
    "sns.boxplot(x='bin_bdi21_score', y='chao1_even_10000_normalized_alpha', data=mapping)"
   ]
  },
  {
   "cell_type": "code",
   "execution_count": 132,
   "metadata": {
    "collapsed": true
   },
   "outputs": [],
   "source": [
    "alphalistchao=bdibinalpha('chao1_even_10000_normalized_alpha')"
   ]
  },
  {
   "cell_type": "code",
   "execution_count": 133,
   "metadata": {
    "collapsed": false
   },
   "outputs": [
    {
     "name": "stderr",
     "output_type": "stream",
     "text": [
      "/Users/priya/anaconda2/envs/gneiss_env/lib/python3.5/site-packages/scipy/stats/mstats_basic.py:134: RuntimeWarning: invalid value encountered in isfinite\n",
      "  output[np.logical_not(np.isfinite(output._data))] = masked\n"
     ]
    },
    {
     "data": {
      "text/plain": [
       "KruskalResult(statistic=0.15708618824373843, pvalue=0.69185348484477238)"
      ]
     },
     "execution_count": 133,
     "metadata": {},
     "output_type": "execute_result"
    }
   ],
   "source": [
    "scipy.stats.mstats.kruskalwallis(alphalistchao[0],alphalistchao[3]) #p values between bdi 1 and 4 PD values"
   ]
  },
  {
   "cell_type": "code",
   "execution_count": 134,
   "metadata": {
    "collapsed": false
   },
   "outputs": [
    {
     "data": {
      "text/plain": [
       "<matplotlib.axes._subplots.AxesSubplot at 0x11d75d0b8>"
      ]
     },
     "execution_count": 134,
     "metadata": {},
     "output_type": "execute_result"
    },
    {
     "data": {
      "image/png": "[encoded data removed]",
      "text/plain": [
       "<matplotlib.figure.Figure at 0x1217efa58>"
      ]
     },
     "metadata": {},
     "output_type": "display_data"
    }
   ],
   "source": [
    "sns.boxplot(x='bin_bdi21_score', y='observed_otus_even_10000_normalized_alpha', data=mapping)"
   ]
  },
  {
   "cell_type": "code",
   "execution_count": 135,
   "metadata": {
    "collapsed": true
   },
   "outputs": [],
   "source": [
    "alphalistotu=bdibinalpha('observed_otus_even_10000_normalized_alpha')"
   ]
  },
  {
   "cell_type": "code",
   "execution_count": 136,
   "metadata": {
    "collapsed": false
   },
   "outputs": [
    {
     "name": "stderr",
     "output_type": "stream",
     "text": [
      "/Users/priya/anaconda2/envs/gneiss_env/lib/python3.5/site-packages/scipy/stats/mstats_basic.py:134: RuntimeWarning: invalid value encountered in isfinite\n",
      "  output[np.logical_not(np.isfinite(output._data))] = masked\n"
     ]
    },
    {
     "data": {
      "text/plain": [
       "KruskalResult(statistic=1.2883170560209307, pvalue=0.25635832756496657)"
      ]
     },
     "execution_count": 136,
     "metadata": {},
     "output_type": "execute_result"
    }
   ],
   "source": [
    "scipy.stats.mstats.kruskalwallis(alphalistotu[0],alphalistotu[3]) #p values between bdi 1 and 4 PD values"
   ]
  },
  {
   "cell_type": "markdown",
   "metadata": {},
   "source": [
    "# Looking at borderline cases (not redone after incl. cornell cohort)"
   ]
  },
  {
   "cell_type": "code",
   "execution_count": 138,
   "metadata": {
    "collapsed": false
   },
   "outputs": [],
   "source": [
    "#_map=pd.read_table(\"/Users/priya/Desktop/Knight-Dorrestein/mnm/Phase3/mnm_borderlinecases.txt\", index_col=\"#SampleID\") "
   ]
  },
  {
   "cell_type": "code",
   "execution_count": 140,
   "metadata": {
    "collapsed": false
   },
   "outputs": [],
   "source": [
    "#sns.boxplot(x='depression_level', y='PD_whole_tree_even_10000_normalized_alpha', data=_map)"
   ]
  },
  {
   "cell_type": "code",
   "execution_count": 141,
   "metadata": {
    "collapsed": false
   },
   "outputs": [],
   "source": [
    "#sns.boxplot(x='depression_level', y='chao1_even_10000_normalized_alpha', data=_map)"
   ]
  },
  {
   "cell_type": "code",
   "execution_count": 142,
   "metadata": {
    "collapsed": false
   },
   "outputs": [],
   "source": [
    "#sns.boxplot(x='depression_level', y='observed_otus_even_10000_normalized_alpha', data=_map)"
   ]
  }
 ],
 "metadata": {
  "kernelspec": {
   "display_name": "Python [gneiss_env]",
   "language": "python",
   "name": "Python [gneiss_env]"
  },
  "language_info": {
   "codemirror_mode": {
    "name": "ipython",
    "version": 3
   },
   "file_extension": ".py",
   "mimetype": "text/x-python",
   "name": "python",
   "nbconvert_exporter": "python",
   "pygments_lexer": "ipython3",
   "version": "3.5.2"
  }
 },
 "nbformat": 4,
 "nbformat_minor": 0
}

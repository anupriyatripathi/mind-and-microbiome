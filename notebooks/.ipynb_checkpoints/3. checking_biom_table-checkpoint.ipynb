{
 "cells": [
  {
   "cell_type": "code",
   "execution_count": 28,
   "metadata": {
    "collapsed": true
   },
   "outputs": [],
   "source": [
    "import biom\n",
    "import pandas as pd"
   ]
  },
  {
   "cell_type": "code",
   "execution_count": 29,
   "metadata": {
    "collapsed": false
   },
   "outputs": [],
   "source": [
    "#loading latest agp fecal biom table\n",
    "agp_table=biom.load_table(\"../../otu_100nt_mnm_jose.biom\")"
   ]
  },
  {
   "cell_type": "code",
   "execution_count": 30,
   "metadata": {
    "collapsed": false
   },
   "outputs": [
    {
     "data": {
      "text/plain": [
       "10885"
      ]
     },
     "execution_count": 30,
     "metadata": {},
     "output_type": "execute_result"
    }
   ],
   "source": [
    "agp_samples=agp_table.ids('sample')\n",
    "len(agp_samples)"
   ]
  },
  {
   "cell_type": "code",
   "execution_count": 33,
   "metadata": {
    "collapsed": false
   },
   "outputs": [],
   "source": [
    "mm=pd.read_table(\"../data/ag278_w_scores.txt\", dtype=str, sep='\\t')\n",
    "mm=mm.set_index(\"index\")"
   ]
  },
  {
   "cell_type": "code",
   "execution_count": 34,
   "metadata": {
    "collapsed": false
   },
   "outputs": [
    {
     "name": "stdout",
     "output_type": "stream",
     "text": [
      "10317.000030752\n",
      "10317.000030761\n",
      "10317.000030773\n",
      "10317.000030766\n",
      "10317.000030776\n",
      "10317.000030777\n",
      "10317.000030778\n",
      "10317.000030780\n",
      "10317.000030781\n",
      "10317.000030768\n",
      "10317.000030769\n",
      "10317.000030770\n",
      "10317.000036086\n",
      "10317.000036090\n",
      "10317.000036096\n",
      "10317.000036065\n",
      "10317.000036073\n",
      "10317.000036074\n",
      "10317.000036404\n",
      "10317.000036405\n",
      "10317.000036408\n",
      "10317.000036426\n",
      "10317.000036431\n",
      "10317.000036432\n",
      "10317.000036079\n",
      "10317.000036403\n",
      "10317.000036424\n",
      "10317.000036930\n",
      "10317.000036935\n",
      "10317.000036936\n",
      "10317.000036937\n",
      "10317.000036948\n",
      "10317.000036949\n",
      "10317.000036951\n",
      "10317.000036384\n",
      "10317.000036385\n",
      "10317.000036387\n",
      "10317.000036388\n",
      "10317.000036921\n",
      "10317.000036922\n",
      "10317.000036923\n",
      "10317.000036924\n",
      "10317.000036940\n",
      "43\n"
     ]
    }
   ],
   "source": [
    "lost_samples=[]\n",
    "count=0\n",
    "for sample in mm.index:\n",
    "    if sample not in agp_samples:\n",
    "        print sample\n",
    "        lost_samples.append(sample)\n",
    "        count+=1\n",
    "print count "
   ]
  },
  {
   "cell_type": "markdown",
   "metadata": {},
   "source": [
    "43 samples in mm 278 are not in in agp otu table yet. We would expect 18 samples (9 that are still not sequenced and 9 that were not logged due to consent issues). Additionally, 25 samples could have been lost because they did not produce good quality reads on sequencing."
   ]
  },
  {
   "cell_type": "code",
   "execution_count": 53,
   "metadata": {
    "collapsed": false
   },
   "outputs": [],
   "source": [
    "missing_md=pd.read_table(\"../data/mm_missing_all.txt\", sep='\\t', dtype=str)\n",
    "missing=list(missing['Unnamed: 0'])"
   ]
  },
  {
   "cell_type": "code",
   "execution_count": 65,
   "metadata": {
    "collapsed": false
   },
   "outputs": [
    {
     "name": "stdout",
     "output_type": "stream",
     "text": [
      "['10317.000030752', '10317.000030761', '10317.000030769', '10317.000036086', '10317.000036090', '10317.000036096', '10317.000036065', '10317.000036404', '10317.000036405', '10317.000036408', '10317.000036426', '10317.000036432', '10317.000036424', '10317.000036935', '10317.000036936', '10317.000036937', '10317.000036949', '10317.000036951', '10317.000036384', '10317.000036387', '10317.000036388', '10317.000036921', '10317.000036923', '10317.000036924', '10317.000036940']\n",
      "25\n"
     ]
    }
   ],
   "source": [
    "#additional 25 samples missing due to poor quality reads: need resequencing \n",
    "c=0\n",
    "lost_qc=[]\n",
    "for samp in lost_samples:\n",
    "    if samp not in missing:\n",
    "        c+=1\n",
    "        lost_qc.append(samp)\n",
    "print lost_qc\n",
    "print c"
   ]
  },
  {
   "cell_type": "code",
   "execution_count": 56,
   "metadata": {
    "collapsed": true
   },
   "outputs": [],
   "source": [
    "#dropping the 43 samples for which we don't have sequences\n",
    "mm_in_agmd=mm.drop(lost_samples)"
   ]
  },
  {
   "cell_type": "code",
   "execution_count": 57,
   "metadata": {
    "collapsed": false
   },
   "outputs": [
    {
     "data": {
      "text/plain": [
       "(235, 487)"
      ]
     },
     "execution_count": 57,
     "metadata": {},
     "output_type": "execute_result"
    }
   ],
   "source": [
    "mm_in_agmd.shape"
   ]
  },
  {
   "cell_type": "code",
   "execution_count": 59,
   "metadata": {
    "collapsed": true
   },
   "outputs": [],
   "source": [
    "mm_in_agmd.to_csv(\"../data/ag235_w_scores.txt\", sep='\\t')"
   ]
  },
  {
   "cell_type": "markdown",
   "metadata": {},
   "source": [
    "# checking summary table agp (old)"
   ]
  },
  {
   "cell_type": "code",
   "execution_count": 71,
   "metadata": {
    "collapsed": false
   },
   "outputs": [
    {
     "data": {
      "text/plain": [
       "(7935, 2)"
      ]
     },
     "execution_count": 71,
     "metadata": {},
     "output_type": "execute_result"
    }
   ],
   "source": [
    "summary=pd.read_table(\"../data/summarize_agp_feces.txt\", sep=\":\", dtype=str)\n",
    "summary.shape"
   ]
  },
  {
   "cell_type": "code",
   "execution_count": 72,
   "metadata": {
    "collapsed": false
   },
   "outputs": [
    {
     "data": {
      "text/html": [
       "<div>\n",
       "<table border=\"1\" class=\"dataframe\">\n",
       "  <thead>\n",
       "    <tr style=\"text-align: right;\">\n",
       "      <th></th>\n",
       "      <th>Sample</th>\n",
       "      <th>Count</th>\n",
       "    </tr>\n",
       "  </thead>\n",
       "  <tbody>\n",
       "    <tr>\n",
       "      <th>0</th>\n",
       "      <td>10317.000015492</td>\n",
       "      <td>1.0</td>\n",
       "    </tr>\n",
       "    <tr>\n",
       "      <th>1</th>\n",
       "      <td>10317.000023901</td>\n",
       "      <td>1.0</td>\n",
       "    </tr>\n",
       "    <tr>\n",
       "      <th>2</th>\n",
       "      <td>10317.000036950</td>\n",
       "      <td>1.0</td>\n",
       "    </tr>\n",
       "    <tr>\n",
       "      <th>3</th>\n",
       "      <td>10317.000021624</td>\n",
       "      <td>1.0</td>\n",
       "    </tr>\n",
       "    <tr>\n",
       "      <th>4</th>\n",
       "      <td>10317.000028918</td>\n",
       "      <td>1.0</td>\n",
       "    </tr>\n",
       "  </tbody>\n",
       "</table>\n",
       "</div>"
      ],
      "text/plain": [
       "            Sample Count\n",
       "0  10317.000015492   1.0\n",
       "1  10317.000023901   1.0\n",
       "2  10317.000036950   1.0\n",
       "3  10317.000021624   1.0\n",
       "4  10317.000028918   1.0"
      ]
     },
     "execution_count": 72,
     "metadata": {},
     "output_type": "execute_result"
    }
   ],
   "source": [
    "summary.head(5)"
   ]
  },
  {
   "cell_type": "code",
   "execution_count": 77,
   "metadata": {
    "collapsed": false
   },
   "outputs": [],
   "source": [
    "summary['Count']=pd.to_numeric(summary['Count'])\n",
    "less_10k=[]\n",
    "for idx in summary.index:\n",
    "    if idx in mm and summary.ix[idx, 'Count'] < 10000:\n",
    "        less_10k.append(summary.ix[idx,'Sample'])"
   ]
  },
  {
   "cell_type": "code",
   "execution_count": 78,
   "metadata": {
    "collapsed": false
   },
   "outputs": [
    {
     "data": {
      "text/plain": [
       "0"
      ]
     },
     "execution_count": 78,
     "metadata": {},
     "output_type": "execute_result"
    }
   ],
   "source": [
    "len(less_10k)"
   ]
  },
  {
   "cell_type": "markdown",
   "metadata": {},
   "source": [
    "None of the samples in our cohort of 278 samples (and subset 235 samples) have less than 10k reads. So our results should be meaningful."
   ]
  }
 ],
 "metadata": {
  "anaconda-cloud": {},
  "kernelspec": {
   "display_name": "Python [Root]",
   "language": "python",
   "name": "Python [Root]"
  },
  "language_info": {
   "codemirror_mode": {
    "name": "ipython",
    "version": 2
   },
   "file_extension": ".py",
   "mimetype": "text/x-python",
   "name": "python",
   "nbconvert_exporter": "python",
   "pygments_lexer": "ipython2",
   "version": "2.7.11"
  }
 },
 "nbformat": 4,
 "nbformat_minor": 0
}

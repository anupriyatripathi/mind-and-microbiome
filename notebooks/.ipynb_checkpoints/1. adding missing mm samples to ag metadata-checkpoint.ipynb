{
 "cells": [
  {
   "cell_type": "code",
   "execution_count": 49,
   "metadata": {
    "collapsed": false
   },
   "outputs": [],
   "source": [
    "import pandas as pd\n",
    "import numpy as np"
   ]
  },
  {
   "cell_type": "code",
   "execution_count": 50,
   "metadata": {
    "collapsed": false
   },
   "outputs": [
    {
     "data": {
      "text/plain": [
       "(11297, 462)"
      ]
     },
     "execution_count": 50,
     "metadata": {},
     "output_type": "execute_result"
    }
   ],
   "source": [
    "#loading latest (07/29/16) metadata table- 11297 subjects currently\n",
    "ag_md= pd.read_table(\"../data/agp_md_072916_raw.txt\", dtype=str, index_col=\"#SampleID\") #importing metadata file as pandas\n",
    "ag_md.shape"
   ]
  },
  {
   "cell_type": "code",
   "execution_count": 51,
   "metadata": {
    "collapsed": false,
    "scrolled": false
   },
   "outputs": [
    {
     "data": {
      "text/plain": [
       "(39, 168)"
      ]
     },
     "execution_count": 51,
     "metadata": {},
     "output_type": "execute_result"
    }
   ],
   "source": [
    "#loading the 39 agp samples that are a part of mm but were not included in agp metadata *initially* because they weren't sequenced\n",
    "ag_missing_md= pd.read_table(\"../data/ag_missing_md.txt\", sep='\\t', dtype=str) #importing metadata file as pandas\n",
    "ag_missing_md.shape"
   ]
  },
  {
   "cell_type": "code",
   "execution_count": 52,
   "metadata": {
    "collapsed": false
   },
   "outputs": [],
   "source": [
    "l1=(list(ag_md.columns.values)) \n",
    "l2=(list(ag_missing_md.columns.values))"
   ]
  },
  {
   "cell_type": "code",
   "execution_count": 53,
   "metadata": {
    "collapsed": false
   },
   "outputs": [
    {
     "name": "stdout",
     "output_type": "stream",
     "text": [
      "164\n"
     ]
    }
   ],
   "source": [
    "#finding non-overlapping columns\n",
    "c=0\n",
    "for k in l1:\n",
    "    if k in l2:\n",
    "        c=c+1\n",
    "print c"
   ]
  },
  {
   "cell_type": "markdown",
   "metadata": {},
   "source": [
    "NOTE: \n",
    "A. 164 columns in the two data sets are common\n",
    "B. ag_md has 298 non-overlapping columns (VIOSCREEN etc.)\n",
    "C. ag_missing_md has the following non-overlapping columns:\n",
    "\n",
    "- sample_name -> change it into #SampleID by concatenating \"10317.\" etc. to the front\n",
    "- DESCRIPTION (American Gut Project Stool sample. Add the column to ag_md)\n",
    "- SCIENTIFIC_NAME (ag_missing_md has scientific_name; ag_md has host_common_name) -> delete scientific name from missing, add common name in missing\n",
    "- TAXON_ID (ag_missing has 408170 i.e human gut metagenome; ag_md has nothing corresponding this)"
   ]
  },
  {
   "cell_type": "code",
   "execution_count": 54,
   "metadata": {
    "collapsed": false
   },
   "outputs": [],
   "source": [
    "#appending prefix to the sample_name\n",
    "ag_missing_md[\"sample_name\"]=\"10317.0000\"+ag_missing_md[\"sample_name\"] "
   ]
  },
  {
   "cell_type": "code",
   "execution_count": 55,
   "metadata": {
    "collapsed": true
   },
   "outputs": [],
   "source": [
    "#renaming sample_name to #SampleID to make it consistent with ag_1k\n",
    "ag_missing_md=ag_missing_md.rename(columns={\"sample_name\":\"#SampleID\"}) "
   ]
  },
  {
   "cell_type": "code",
   "execution_count": 56,
   "metadata": {
    "collapsed": false
   },
   "outputs": [],
   "source": [
    "#indexing ag_missing by #SampleID\n",
    "ag_missing_md=ag_missing_md.set_index(\"#SampleID\")"
   ]
  },
  {
   "cell_type": "code",
   "execution_count": 57,
   "metadata": {
    "collapsed": false
   },
   "outputs": [],
   "source": [
    "#convert column names of both the pandas md files to lower case\n",
    "ag_md.columns = map(str.lower, ag_md.columns)\n",
    "ag_missing_md.columns = map(str.lower, ag_missing_md.columns)"
   ]
  },
  {
   "cell_type": "code",
   "execution_count": 58,
   "metadata": {
    "collapsed": false
   },
   "outputs": [],
   "source": [
    "#add Description to ag_md\n",
    "ag_md['description'] = \"American Gut Project Stool sample\""
   ]
  },
  {
   "cell_type": "code",
   "execution_count": 59,
   "metadata": {
    "collapsed": false
   },
   "outputs": [],
   "source": [
    "#remove SCIENTIFIC_NAME column in ag_missing. Add host_common_name\n",
    "del ag_missing_md['scientific_name']\n",
    "ag_missing_md['host_common_name']=\"human\""
   ]
  },
  {
   "cell_type": "code",
   "execution_count": 60,
   "metadata": {
    "collapsed": true
   },
   "outputs": [],
   "source": [
    "#add TAXON_ID to ag_md\n",
    "ag_md['taxon_id']=\"408170\""
   ]
  },
  {
   "cell_type": "code",
   "execution_count": 61,
   "metadata": {
    "collapsed": false
   },
   "outputs": [
    {
     "name": "stdout",
     "output_type": "stream",
     "text": [
      "The number of MM samples still missing in AGP metadata file are: 9\n",
      "The number of MM samples that have been included in the latest AGP metadata file used are: 30\n"
     ]
    }
   ],
   "source": [
    "missing=[]\n",
    "included=[]\n",
    "\n",
    "for idx in ag_missing_md.index:\n",
    "    if idx not in ag_md.index:\n",
    "        missing.append(idx)\n",
    "    else:\n",
    "        included.append(idx)\n",
    "\n",
    "print(\"The number of MM samples still missing in AGP metadata file are: %d\") %(len(missing))\n",
    "print(\"The number of MM samples that have been included in the latest AGP metadata file used are: %d\") %(len(included))\n",
    "#30 samples in ag_missing_md have been included in the latest ag_md (as of july 29, 2016)"
   ]
  },
  {
   "cell_type": "code",
   "execution_count": 62,
   "metadata": {
    "collapsed": false
   },
   "outputs": [
    {
     "data": {
      "text/plain": [
       "['10317.000036073',\n",
       " '10317.000036074',\n",
       " '10317.000036079',\n",
       " '10317.000036385',\n",
       " '10317.000036403',\n",
       " '10317.000036431',\n",
       " '10317.000036922',\n",
       " '10317.000036930',\n",
       " '10317.000036948']"
      ]
     },
     "execution_count": 62,
     "metadata": {},
     "output_type": "execute_result"
    }
   ],
   "source": [
    "missing # number of samples which are still not sequenced through AGP but belong to the MM cohort"
   ]
  },
  {
   "cell_type": "code",
   "execution_count": 63,
   "metadata": {
    "collapsed": false
   },
   "outputs": [],
   "source": [
    "#non-overlapping columns\n",
    "nonoverlap=[]\n",
    "l1=(list(ag_md.columns.values))\n",
    "l2=(list(ag_missing_md.columns.values))\n",
    "for col in l2:\n",
    "    if col not in l1:\n",
    "        nonpverlap.append(col)\n",
    "if col==[]:\n",
    "    print(\"All the columns on ag_missing_md are included in ag_md\")"
   ]
  },
  {
   "cell_type": "markdown",
   "metadata": {},
   "source": [
    "All the columns in ag_missing_md are in ag_md. (ag_md has extra columns not included in ag_missing_md)"
   ]
  },
  {
   "cell_type": "code",
   "execution_count": 64,
   "metadata": {
    "collapsed": true
   },
   "outputs": [],
   "source": [
    "col=list(ag_md.columns)"
   ]
  },
  {
   "cell_type": "code",
   "execution_count": 65,
   "metadata": {
    "collapsed": false
   },
   "outputs": [
    {
     "data": {
      "text/plain": [
       "463"
      ]
     },
     "execution_count": 65,
     "metadata": {},
     "output_type": "execute_result"
    }
   ],
   "source": [
    "len(col)"
   ]
  },
  {
   "cell_type": "code",
   "execution_count": 66,
   "metadata": {
    "collapsed": false
   },
   "outputs": [],
   "source": [
    "notlogged=pd.DataFrame(index=['10317.000030770','10317.000030773','10317.000030776','10317.000030777','10317.000030778','10317.000030766','10317.000030768','10317.000030781','10317.000030780'], columns=col)"
   ]
  },
  {
   "cell_type": "code",
   "execution_count": 67,
   "metadata": {
    "collapsed": false
   },
   "outputs": [
    {
     "data": {
      "text/plain": [
       "(9, 166)"
      ]
     },
     "execution_count": 67,
     "metadata": {},
     "output_type": "execute_result"
    }
   ],
   "source": [
    "#dropping samples that have been included in the latest agp run from the table with missing samples \n",
    "ag_missing_md=ag_missing_md.drop(included)\n",
    "ag_missing_md.shape"
   ]
  },
  {
   "cell_type": "code",
   "execution_count": 68,
   "metadata": {
    "collapsed": false
   },
   "outputs": [],
   "source": [
    "#appending not logged samples to the list with missing samples\n",
    "mm_missing_all=ag_missing_md.append(notlogged)"
   ]
  },
  {
   "cell_type": "markdown",
   "metadata": {},
   "source": [
    "9 samples were not logged due to consent issues. And 9 have not been sequences through AGP. So, we dont have data for a total of 18 samples in the MM cohort. "
   ]
  },
  {
   "cell_type": "code",
   "execution_count": 70,
   "metadata": {
    "collapsed": false
   },
   "outputs": [],
   "source": [
    "#saving a list of missing samples\n",
    "mm_missing_all.to_csv(\"../data/mm_missing_all.txt\",sep='\\t', float_format='string')"
   ]
  },
  {
   "cell_type": "markdown",
   "metadata": {},
   "source": [
    "Adding these 18 samples to a master metadata file, to keep everything at one place. "
   ]
  },
  {
   "cell_type": "code",
   "execution_count": 71,
   "metadata": {
    "collapsed": true
   },
   "outputs": [],
   "source": [
    "ag_merged_md=ag_md.append(mm_missing_all)"
   ]
  },
  {
   "cell_type": "code",
   "execution_count": 72,
   "metadata": {
    "collapsed": false
   },
   "outputs": [
    {
     "data": {
      "text/plain": [
       "(11315, 463)"
      ]
     },
     "execution_count": 72,
     "metadata": {},
     "output_type": "execute_result"
    }
   ],
   "source": [
    "ag_merged_md.shape #11297 (orignally in agp table) + 18  missing samples"
   ]
  },
  {
   "cell_type": "code",
   "execution_count": 73,
   "metadata": {
    "collapsed": false
   },
   "outputs": [],
   "source": [
    "ag_merged_md.to_csv(\"../data/ag_all_plus_mm_missing.txt\", sep='\\t', float_format='string')"
   ]
  },
  {
   "cell_type": "code",
   "execution_count": null,
   "metadata": {
    "collapsed": true
   },
   "outputs": [],
   "source": []
  }
 ],
 "metadata": {
  "anaconda-cloud": {},
  "kernelspec": {
   "display_name": "Python [Root]",
   "language": "python",
   "name": "Python [Root]"
  },
  "language_info": {
   "codemirror_mode": {
    "name": "ipython",
    "version": 2
   },
   "file_extension": ".py",
   "mimetype": "text/x-python",
   "name": "python",
   "nbconvert_exporter": "python",
   "pygments_lexer": "ipython2",
   "version": "2.7.11"
  }
 },
 "nbformat": 4,
 "nbformat_minor": 0
}

{
 "cells": [
  {
   "cell_type": "code",
   "execution_count": 70,
   "metadata": {
    "collapsed": false
   },
   "outputs": [],
   "source": [
    "import pandas as pd\n",
    "from biom import load_table\n",
    "from ancomP.stats.ancom import ancom\n",
    "import numpy as np\n",
    "import math\n",
    "from pylab import *"
   ]
  },
  {
   "cell_type": "code",
   "execution_count": 71,
   "metadata": {
    "collapsed": false
   },
   "outputs": [],
   "source": [
    "md=pd.read_table(\"/Users/priya/Desktop/Knight-Dorrestein/mnm/Phase3/mnm_borderlinecases_bdi.txt\", dtype=str)"
   ]
  },
  {
   "cell_type": "code",
   "execution_count": 72,
   "metadata": {
    "collapsed": false
   },
   "outputs": [],
   "source": [
    "md=md.set_index(\"#SampleID\")"
   ]
  },
  {
   "cell_type": "code",
   "execution_count": 73,
   "metadata": {
    "collapsed": true
   },
   "outputs": [],
   "source": [
    "table1=load_table(\"/Users/priya/Desktop/Knight-Dorrestein/mnm/Phase3/picrust/catfunc_l1.biom\")\n",
    "table2=load_table(\"/Users/priya/Desktop/Knight-Dorrestein/mnm/Phase3/picrust/catfunc_l2.biom\")\n",
    "table3=load_table(\"/Users/priya/Desktop/Knight-Dorrestein/mnm/Phase3/picrust/catfunc_l3.biom\")"
   ]
  },
  {
   "cell_type": "code",
   "execution_count": 74,
   "metadata": {
    "collapsed": true
   },
   "outputs": [],
   "source": [
    "import pandas as pd\n",
    "import numpy as np\n",
    "\n",
    "def exploding_panda(bt):\n",
    "    \"\"\"BIOM->Pandas dataframe converter\n",
    "\n",
    "    Parameters\n",
    "    ----------\n",
    "    bt : biom.Table\n",
    "        BIOM table\n",
    "\n",
    "    Returns\n",
    "    -------\n",
    "    pandas.DataFrame\n",
    "        The BIOM table converted into a DataFrame\n",
    "        object.\"\"\"\n",
    "\n",
    "\n",
    "    m = bt.matrix_data\n",
    "    data = [pd.SparseSeries(m[i].toarray().ravel()) for i in np.arange(m.shape[0])]\n",
    "    out = pd.SparseDataFrame(data, index=bt.ids('observation'),\n",
    "                             columns=bt.ids('sample'))\n",
    "\n",
    "    return out"
   ]
  },
  {
   "cell_type": "code",
   "execution_count": 75,
   "metadata": {
    "collapsed": true
   },
   "outputs": [],
   "source": [
    "table1_pd=exploding_panda(table1).to_dense()+1 #converting biom table to pandas df, will help in editing the table\n",
    "table2_pd=exploding_panda(table2).to_dense()+1\n",
    "table3_pd=exploding_panda(table3).to_dense()+1"
   ]
  },
  {
   "cell_type": "code",
   "execution_count": 76,
   "metadata": {
    "collapsed": false
   },
   "outputs": [
    {
     "name": "stdout",
     "output_type": "stream",
     "text": [
      "(32, 459)\n",
      "(8, 32)\n"
     ]
    }
   ],
   "source": [
    "print(md.shape)\n",
    "print(table1_pd.shape)"
   ]
  },
  {
   "cell_type": "code",
   "execution_count": 79,
   "metadata": {
    "collapsed": true
   },
   "outputs": [],
   "source": [
    "def sig_path(ancom): #identifyinf taxa for which the null hypothesis (treatment=control) is rejected\n",
    "    sig_path=[]\n",
    "    for idx in ancom.index:\n",
    "        if ancom.ix[idx,'reject']==True:\n",
    "            sig_path.append(idx)\n",
    "    return sig_path"
   ]
  },
  {
   "cell_type": "code",
   "execution_count": 80,
   "metadata": {
    "collapsed": true
   },
   "outputs": [],
   "source": [
    "def sig_path_counts(table, sig_path):\n",
    "    counts=pd.DataFrame(columns=['count saline','count meth'], index=sig_path)\n",
    "    counts['count normal']=0\n",
    "    counts['count depressed']=0\n",
    "    for path in sig_path:\n",
    "        tot_dep=0\n",
    "        count_dep=0\n",
    "        tot_nor=0\n",
    "        count_nor=0\n",
    "        for sample in table.columns:\n",
    "            if md.ix[sample,'depression_level']=='normal':\n",
    "                tot_nor+=table.ix[path,sample]\n",
    "                count_nor+=1\n",
    "            if md.ix[sample, 'depression_level']=='depressed':\n",
    "                tot_dep+=table.ix[path, sample]\n",
    "                count_dep+=1\n",
    "        counts.ix[path,'count depressed']=tot_dep/float(count_dep)\n",
    "        counts.ix[path,'count normal']=tot_nor/float(count_nor)\n",
    "    return counts"
   ]
  },
  {
   "cell_type": "code",
   "execution_count": 81,
   "metadata": {
    "collapsed": true
   },
   "outputs": [],
   "source": [
    "def calc_foldchange(counts):\n",
    "    foldchange=pd.DataFrame(columns=['avg_change', 'log2_foldchange','log10_foldchange'], index=counts.index)\n",
    "    for idx in counts.index:\n",
    "        #average change\n",
    "        diff=counts.ix[idx,'count depressed']-counts.ix[idx,'count normal'] #treatment-control\n",
    "        avtot=0.5 * (counts.ix[idx,'count depressed']+counts.ix[idx,'count normal'])\n",
    "        avg_change=diff/float(avtot)\n",
    "        foldchange.ix[idx,'avg_change']=avg_change\n",
    "        #log2 change\n",
    "        logfc=math.log((counts.ix[idx,'count depressed']/counts.ix[idx,'count normal']), 2)\n",
    "        foldchange.ix[idx,'log2_foldchange']=logfc\n",
    "        #log10 change\n",
    "        logfc=math.log((counts.ix[idx,'count depressed']/counts.ix[idx,'count normal']), 10)\n",
    "        foldchange.ix[idx,'log10_foldchange']=logfc \n",
    "    return foldchange"
   ]
  },
  {
   "cell_type": "code",
   "execution_count": 82,
   "metadata": {
    "collapsed": false
   },
   "outputs": [],
   "source": [
    "ancom1=ancom((table1_pd).T, md.depression_level, alpha=0.05, tau=0.02, theta=0.1, multiple_comparisons_correction='holm-bonferroni', significance_test=None, permutations=1000)\n",
    "sig_path1=sig_path(ancom1)\n",
    "#counts1=sig_path_counts(table1_pd, sig_path1)\n",
    "#calc_foldchange(counts1)"
   ]
  },
  {
   "cell_type": "code",
   "execution_count": 83,
   "metadata": {
    "collapsed": false
   },
   "outputs": [
    {
     "data": {
      "text/plain": [
       "['Organismal Systems']"
      ]
     },
     "execution_count": 83,
     "metadata": {},
     "output_type": "execute_result"
    }
   ],
   "source": [
    "sig_path1"
   ]
  },
  {
   "cell_type": "code",
   "execution_count": 86,
   "metadata": {
    "collapsed": true
   },
   "outputs": [],
   "source": [
    "ancom2=ancom((table2_pd).T, md.depression_level, alpha=0.05, tau=0.02, theta=0.1, multiple_comparisons_correction='holm-bonferroni', significance_test=None, permutations=1000)\n",
    "sig_path2=sig_path(ancom2)\n",
    "#counts1=sig_path_counts(table1_pd, sig_path1)\n",
    "#calc_foldchange(counts1)"
   ]
  },
  {
   "cell_type": "code",
   "execution_count": 87,
   "metadata": {
    "collapsed": false
   },
   "outputs": [
    {
     "data": {
      "text/plain": [
       "[]"
      ]
     },
     "execution_count": 87,
     "metadata": {},
     "output_type": "execute_result"
    }
   ],
   "source": [
    "sig_path2"
   ]
  },
  {
   "cell_type": "code",
   "execution_count": 88,
   "metadata": {
    "collapsed": true
   },
   "outputs": [],
   "source": [
    "ancom3=ancom((table3_pd).T, md.depression_level, alpha=0.05, tau=0.02, theta=0.1, multiple_comparisons_correction='holm-bonferroni', significance_test=None, permutations=1000)\n",
    "sig_path3=sig_path(ancom3)\n",
    "#counts1=sig_path_counts(table1_pd, sig_path1)\n",
    "#calc_foldchange(counts1)"
   ]
  },
  {
   "cell_type": "code",
   "execution_count": 89,
   "metadata": {
    "collapsed": false
   },
   "outputs": [
    {
     "data": {
      "text/plain": [
       "[]"
      ]
     },
     "execution_count": 89,
     "metadata": {},
     "output_type": "execute_result"
    }
   ],
   "source": [
    "sig_path3"
   ]
  },
  {
   "cell_type": "code",
   "execution_count": null,
   "metadata": {
    "collapsed": true
   },
   "outputs": [],
   "source": []
  }
 ],
 "metadata": {
  "kernelspec": {
   "display_name": "Python [ancom]",
   "language": "python",
   "name": "Python [ancom]"
  },
  "language_info": {
   "codemirror_mode": {
    "name": "ipython",
    "version": 3
   },
   "file_extension": ".py",
   "mimetype": "text/x-python",
   "name": "python",
   "nbconvert_exporter": "python",
   "pygments_lexer": "ipython3",
   "version": "3.5.2"
  }
 },
 "nbformat": 4,
 "nbformat_minor": 0
}

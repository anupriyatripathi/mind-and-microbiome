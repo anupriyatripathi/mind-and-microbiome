{
 "cells": [
  {
   "cell_type": "code",
   "execution_count": 1,
   "metadata": {
    "collapsed": false
   },
   "outputs": [],
   "source": [
    "import pandas as pd\n",
    "import numpy as np"
   ]
  },
  {
   "cell_type": "code",
   "execution_count": 2,
   "metadata": {
    "collapsed": false
   },
   "outputs": [
    {
     "data": {
      "text/plain": [
       "(290, 25)"
      ]
     },
     "execution_count": 2,
     "metadata": {},
     "output_type": "execute_result"
    }
   ],
   "source": [
    "mm= pd.read_table(\"../data/mm_scores_w_cornell.txt\", dtype=str, sep='\\t') #importing metadata file as pandas\n",
    "mm.shape"
   ]
  },
  {
   "cell_type": "markdown",
   "metadata": {},
   "source": [
    "257 (orignal MM cohort) + 23 (cornell) = 290"
   ]
  },
  {
   "cell_type": "code",
   "execution_count": 3,
   "metadata": {
    "collapsed": false
   },
   "outputs": [
    {
     "data": {
      "text/plain": [
       "Index([u'DateSurvey', u'IPAddress', u'DateSampled', u'MM_ID', u'KitID',\n",
       "       u'SurveyID', u'LOTR_SCORE', u'SWB_SCORE', u'FLOURISH_SCORE',\n",
       "       u'PANAST_POSAFFECT_SCORE', u'PANAST_NEGAFFECT_SCORE', u'BDI21_SCORE',\n",
       "       u'LONE_SCORE', u'PSS_SCORE', u'STAITX_SCORE', u'NORM_LOTR_SCORE',\n",
       "       u'NORM_SWB_SCORE', u'NORM_FLOURISH_SCORE',\n",
       "       u'NORM_PANAST_POSAFFECT_SCORE', u'NORM_PANAST_NEGAFFECT_SCORE',\n",
       "       u'NORM_BDI21_SCORE', u'NORM_LONE_SCORE', u'NORM_PSS_SCORE',\n",
       "       u'NORM_STAITX_SCORE', u'BIN_BDI21_SCORE'],\n",
       "      dtype='object')"
      ]
     },
     "execution_count": 3,
     "metadata": {},
     "output_type": "execute_result"
    }
   ],
   "source": [
    "mm.columns"
   ]
  },
  {
   "cell_type": "code",
   "execution_count": 4,
   "metadata": {
    "collapsed": false
   },
   "outputs": [
    {
     "name": "stderr",
     "output_type": "stream",
     "text": [
      "/Users/priya/anaconda2/lib/python2.7/site-packages/IPython/core/interactiveshell.py:2723: DtypeWarning: Columns (167,168,169,170,171,172) have mixed types. Specify dtype option on import or set low_memory=False.\n",
      "  interactivity=interactivity, compiler=compiler, result=result)\n"
     ]
    },
    {
     "data": {
      "text/html": [
       "<div>\n",
       "<table border=\"1\" class=\"dataframe\">\n",
       "  <thead>\n",
       "    <tr style=\"text-align: right;\">\n",
       "      <th></th>\n",
       "      <th>acid_reflux</th>\n",
       "      <th>acne_medication</th>\n",
       "      <th>acne_medication_otc</th>\n",
       "      <th>add_adhd</th>\n",
       "      <th>age_cat</th>\n",
       "      <th>age_corrected</th>\n",
       "      <th>age_years</th>\n",
       "      <th>alcohol_consumption</th>\n",
       "      <th>alcohol_frequency</th>\n",
       "      <th>alcohol_types_beercider</th>\n",
       "      <th>...</th>\n",
       "      <th>vioscreen_xylitol</th>\n",
       "      <th>vioscreen_zinc</th>\n",
       "      <th>vitamin_b_supplement_frequency</th>\n",
       "      <th>vitamin_d_supplement_frequency</th>\n",
       "      <th>vivid_dreams</th>\n",
       "      <th>weight_change</th>\n",
       "      <th>weight_kg</th>\n",
       "      <th>weight_units</th>\n",
       "      <th>whole_eggs</th>\n",
       "      <th>whole_grain_frequency</th>\n",
       "    </tr>\n",
       "  </thead>\n",
       "  <tbody>\n",
       "    <tr>\n",
       "      <th>10317.000027826</th>\n",
       "      <td>no_data</td>\n",
       "      <td>false</td>\n",
       "      <td>true</td>\n",
       "      <td>I do not have this condition</td>\n",
       "      <td>30s</td>\n",
       "      <td>35.0</td>\n",
       "      <td>35.0</td>\n",
       "      <td>true</td>\n",
       "      <td>Rarely (a few times/month)</td>\n",
       "      <td>true</td>\n",
       "      <td>...</td>\n",
       "      <td>0.037534246</td>\n",
       "      <td>9.568932604</td>\n",
       "      <td>Daily</td>\n",
       "      <td>Daily</td>\n",
       "      <td>no_data</td>\n",
       "      <td>Remained stable</td>\n",
       "      <td>52.0</td>\n",
       "      <td>kilograms</td>\n",
       "      <td>Never</td>\n",
       "      <td>Never</td>\n",
       "    </tr>\n",
       "    <tr>\n",
       "      <th>10317.000027827</th>\n",
       "      <td>no_data</td>\n",
       "      <td>false</td>\n",
       "      <td>false</td>\n",
       "      <td>I do not have this condition</td>\n",
       "      <td>70+</td>\n",
       "      <td>77.0</td>\n",
       "      <td>77.0</td>\n",
       "      <td>true</td>\n",
       "      <td>Rarely (a few times/month)</td>\n",
       "      <td>false</td>\n",
       "      <td>...</td>\n",
       "      <td>Unknown</td>\n",
       "      <td>Unknown</td>\n",
       "      <td>Daily</td>\n",
       "      <td>Daily</td>\n",
       "      <td>no_data</td>\n",
       "      <td>Remained stable</td>\n",
       "      <td>68.0</td>\n",
       "      <td>kilograms</td>\n",
       "      <td>Rarely (less than once/week)</td>\n",
       "      <td>Never</td>\n",
       "    </tr>\n",
       "    <tr>\n",
       "      <th>10317.000027825</th>\n",
       "      <td>no_data</td>\n",
       "      <td>false</td>\n",
       "      <td>false</td>\n",
       "      <td>I do not have this condition</td>\n",
       "      <td>30s</td>\n",
       "      <td>31.0</td>\n",
       "      <td>31.0</td>\n",
       "      <td>false</td>\n",
       "      <td>Never</td>\n",
       "      <td>false</td>\n",
       "      <td>...</td>\n",
       "      <td>Unknown</td>\n",
       "      <td>Unknown</td>\n",
       "      <td>Rarely (a few times/month)</td>\n",
       "      <td>Rarely (a few times/month)</td>\n",
       "      <td>no_data</td>\n",
       "      <td>Remained stable</td>\n",
       "      <td>70.0</td>\n",
       "      <td>kilograms</td>\n",
       "      <td>Rarely (less than once/week)</td>\n",
       "      <td>Daily</td>\n",
       "    </tr>\n",
       "    <tr>\n",
       "      <th>10317.000014400</th>\n",
       "      <td>no_data</td>\n",
       "      <td>true</td>\n",
       "      <td>true</td>\n",
       "      <td>Unknown</td>\n",
       "      <td>50s</td>\n",
       "      <td>50.0</td>\n",
       "      <td>50.0</td>\n",
       "      <td>true</td>\n",
       "      <td>Daily</td>\n",
       "      <td>false</td>\n",
       "      <td>...</td>\n",
       "      <td>Unknown</td>\n",
       "      <td>Unknown</td>\n",
       "      <td>Unknown</td>\n",
       "      <td>Unknown</td>\n",
       "      <td>no_data</td>\n",
       "      <td>Remained stable</td>\n",
       "      <td>59.0</td>\n",
       "      <td>kilograms</td>\n",
       "      <td>Unknown</td>\n",
       "      <td>Unknown</td>\n",
       "    </tr>\n",
       "    <tr>\n",
       "      <th>10317.000027820</th>\n",
       "      <td>no_data</td>\n",
       "      <td>false</td>\n",
       "      <td>false</td>\n",
       "      <td>I do not have this condition</td>\n",
       "      <td>30s</td>\n",
       "      <td>33.0</td>\n",
       "      <td>33.0</td>\n",
       "      <td>true</td>\n",
       "      <td>Occasionally (1-2 times/week)</td>\n",
       "      <td>true</td>\n",
       "      <td>...</td>\n",
       "      <td>Unknown</td>\n",
       "      <td>Unknown</td>\n",
       "      <td>Daily</td>\n",
       "      <td>Daily</td>\n",
       "      <td>no_data</td>\n",
       "      <td>Remained stable</td>\n",
       "      <td>54.0</td>\n",
       "      <td>kilograms</td>\n",
       "      <td>Regularly (3-5 times/week)</td>\n",
       "      <td>Daily</td>\n",
       "    </tr>\n",
       "  </tbody>\n",
       "</table>\n",
       "<p>5 rows × 463 columns</p>\n",
       "</div>"
      ],
      "text/plain": [
       "                acid_reflux acne_medication acne_medication_otc  \\\n",
       "10317.000027826     no_data           false                true   \n",
       "10317.000027827     no_data           false               false   \n",
       "10317.000027825     no_data           false               false   \n",
       "10317.000014400     no_data            true                true   \n",
       "10317.000027820     no_data           false               false   \n",
       "\n",
       "                                     add_adhd age_cat age_corrected age_years  \\\n",
       "10317.000027826  I do not have this condition     30s          35.0      35.0   \n",
       "10317.000027827  I do not have this condition     70+          77.0      77.0   \n",
       "10317.000027825  I do not have this condition     30s          31.0      31.0   \n",
       "10317.000014400                       Unknown     50s          50.0      50.0   \n",
       "10317.000027820  I do not have this condition     30s          33.0      33.0   \n",
       "\n",
       "                alcohol_consumption              alcohol_frequency  \\\n",
       "10317.000027826                true     Rarely (a few times/month)   \n",
       "10317.000027827                true     Rarely (a few times/month)   \n",
       "10317.000027825               false                          Never   \n",
       "10317.000014400                true                          Daily   \n",
       "10317.000027820                true  Occasionally (1-2 times/week)   \n",
       "\n",
       "                alcohol_types_beercider          ...           \\\n",
       "10317.000027826                    true          ...            \n",
       "10317.000027827                   false          ...            \n",
       "10317.000027825                   false          ...            \n",
       "10317.000014400                   false          ...            \n",
       "10317.000027820                    true          ...            \n",
       "\n",
       "                vioscreen_xylitol vioscreen_zinc  \\\n",
       "10317.000027826       0.037534246    9.568932604   \n",
       "10317.000027827           Unknown        Unknown   \n",
       "10317.000027825           Unknown        Unknown   \n",
       "10317.000014400           Unknown        Unknown   \n",
       "10317.000027820           Unknown        Unknown   \n",
       "\n",
       "                vitamin_b_supplement_frequency vitamin_d_supplement_frequency  \\\n",
       "10317.000027826                          Daily                          Daily   \n",
       "10317.000027827                          Daily                          Daily   \n",
       "10317.000027825     Rarely (a few times/month)     Rarely (a few times/month)   \n",
       "10317.000014400                        Unknown                        Unknown   \n",
       "10317.000027820                          Daily                          Daily   \n",
       "\n",
       "                vivid_dreams    weight_change weight_kg weight_units  \\\n",
       "10317.000027826      no_data  Remained stable      52.0    kilograms   \n",
       "10317.000027827      no_data  Remained stable      68.0    kilograms   \n",
       "10317.000027825      no_data  Remained stable      70.0    kilograms   \n",
       "10317.000014400      no_data  Remained stable      59.0    kilograms   \n",
       "10317.000027820      no_data  Remained stable      54.0    kilograms   \n",
       "\n",
       "                                   whole_eggs whole_grain_frequency  \n",
       "10317.000027826                         Never                 Never  \n",
       "10317.000027827  Rarely (less than once/week)                 Never  \n",
       "10317.000027825  Rarely (less than once/week)                 Daily  \n",
       "10317.000014400                       Unknown               Unknown  \n",
       "10317.000027820    Regularly (3-5 times/week)                 Daily  \n",
       "\n",
       "[5 rows x 463 columns]"
      ]
     },
     "execution_count": 4,
     "metadata": {},
     "output_type": "execute_result"
    }
   ],
   "source": [
    "ag_all= pd.read_table(\"../data/ag_all_plus_mm_missing.txt\", sep='\\t', index_col=0)\n",
    "ag_all.head(5)"
   ]
  },
  {
   "cell_type": "code",
   "execution_count": 5,
   "metadata": {
    "collapsed": false
   },
   "outputs": [],
   "source": [
    "#change all column names to lower case\n",
    "mm.columns = map(str.lower, mm.columns)"
   ]
  },
  {
   "cell_type": "code",
   "execution_count": 6,
   "metadata": {
    "collapsed": false
   },
   "outputs": [],
   "source": [
    "#removing ipaddress column\n",
    "del mm['ipaddress']"
   ]
  },
  {
   "cell_type": "code",
   "execution_count": 7,
   "metadata": {
    "collapsed": false
   },
   "outputs": [],
   "source": [
    "#removing time from datesurvey\n",
    "for x in range(len(mm['datesurvey'])):\n",
    "    mm['datesurvey'][x]=mm['datesurvey'][x].split(' ')[0]"
   ]
  },
  {
   "cell_type": "code",
   "execution_count": 8,
   "metadata": {
    "collapsed": false
   },
   "outputs": [],
   "source": [
    "#Kit IDs are actually sample IDs\n",
    "mm=mm.rename(columns={\"kitid\":\"#SampleID\"}) \n",
    "# changing sample ids to agp format\n",
    "mm[\"#SampleID\"]='10317.0000'+mm[\"#SampleID\"]"
   ]
  },
  {
   "cell_type": "code",
   "execution_count": 9,
   "metadata": {
    "collapsed": false
   },
   "outputs": [],
   "source": [
    "mm=mm.set_index('#SampleID')"
   ]
  },
  {
   "cell_type": "code",
   "execution_count": 10,
   "metadata": {
    "collapsed": false
   },
   "outputs": [
    {
     "data": {
      "text/html": [
       "<div>\n",
       "<table border=\"1\" class=\"dataframe\">\n",
       "  <thead>\n",
       "    <tr style=\"text-align: right;\">\n",
       "      <th></th>\n",
       "      <th>datesurvey</th>\n",
       "      <th>datesampled</th>\n",
       "      <th>mm_id</th>\n",
       "      <th>surveyid</th>\n",
       "      <th>lotr_score</th>\n",
       "      <th>swb_score</th>\n",
       "      <th>flourish_score</th>\n",
       "      <th>panast_posaffect_score</th>\n",
       "      <th>panast_negaffect_score</th>\n",
       "      <th>bdi21_score</th>\n",
       "      <th>...</th>\n",
       "      <th>norm_lotr_score</th>\n",
       "      <th>norm_swb_score</th>\n",
       "      <th>norm_flourish_score</th>\n",
       "      <th>norm_panast_posaffect_score</th>\n",
       "      <th>norm_panast_negaffect_score</th>\n",
       "      <th>norm_bdi21_score</th>\n",
       "      <th>norm_lone_score</th>\n",
       "      <th>norm_pss_score</th>\n",
       "      <th>norm_staitx_score</th>\n",
       "      <th>bin_bdi21_score</th>\n",
       "    </tr>\n",
       "    <tr>\n",
       "      <th>#SampleID</th>\n",
       "      <th></th>\n",
       "      <th></th>\n",
       "      <th></th>\n",
       "      <th></th>\n",
       "      <th></th>\n",
       "      <th></th>\n",
       "      <th></th>\n",
       "      <th></th>\n",
       "      <th></th>\n",
       "      <th></th>\n",
       "      <th></th>\n",
       "      <th></th>\n",
       "      <th></th>\n",
       "      <th></th>\n",
       "      <th></th>\n",
       "      <th></th>\n",
       "      <th></th>\n",
       "      <th></th>\n",
       "      <th></th>\n",
       "      <th></th>\n",
       "      <th></th>\n",
       "    </tr>\n",
       "  </thead>\n",
       "  <tbody>\n",
       "    <tr>\n",
       "      <th>10317.000017083</th>\n",
       "      <td>5/24/14</td>\n",
       "      <td>5/27/14</td>\n",
       "      <td>1</td>\n",
       "      <td>4453</td>\n",
       "      <td>24</td>\n",
       "      <td>4.5</td>\n",
       "      <td>48</td>\n",
       "      <td>26</td>\n",
       "      <td>16</td>\n",
       "      <td>6</td>\n",
       "      <td>...</td>\n",
       "      <td>0.2</td>\n",
       "      <td>0.36</td>\n",
       "      <td>0.17</td>\n",
       "      <td>0.6</td>\n",
       "      <td>0.15</td>\n",
       "      <td>0.1</td>\n",
       "      <td>0.62</td>\n",
       "      <td>0.36</td>\n",
       "      <td>0.36</td>\n",
       "      <td>1</td>\n",
       "    </tr>\n",
       "    <tr>\n",
       "      <th>10317.000017080</th>\n",
       "      <td>5/13/14</td>\n",
       "      <td>5/28/14</td>\n",
       "      <td>3</td>\n",
       "      <td>9801</td>\n",
       "      <td>18</td>\n",
       "      <td>3.5</td>\n",
       "      <td>56</td>\n",
       "      <td>46</td>\n",
       "      <td>24</td>\n",
       "      <td>1</td>\n",
       "      <td>...</td>\n",
       "      <td>0.4</td>\n",
       "      <td>0.5</td>\n",
       "      <td>0</td>\n",
       "      <td>0.1</td>\n",
       "      <td>0.35</td>\n",
       "      <td>0.02</td>\n",
       "      <td>0.08</td>\n",
       "      <td>0.2</td>\n",
       "      <td>0.53</td>\n",
       "      <td>1</td>\n",
       "    </tr>\n",
       "    <tr>\n",
       "      <th>10317.000017096</th>\n",
       "      <td>5/24/14</td>\n",
       "      <td>5/28/14</td>\n",
       "      <td>4</td>\n",
       "      <td>6619</td>\n",
       "      <td>20</td>\n",
       "      <td>5.5</td>\n",
       "      <td>48</td>\n",
       "      <td>36</td>\n",
       "      <td>26</td>\n",
       "      <td>1</td>\n",
       "      <td>...</td>\n",
       "      <td>0.33</td>\n",
       "      <td>0.21</td>\n",
       "      <td>0.17</td>\n",
       "      <td>0.35</td>\n",
       "      <td>0.4</td>\n",
       "      <td>0.02</td>\n",
       "      <td>0.02</td>\n",
       "      <td>0.14</td>\n",
       "      <td>0.6</td>\n",
       "      <td>1</td>\n",
       "    </tr>\n",
       "    <tr>\n",
       "      <th>10317.000017074</th>\n",
       "      <td>5/16/14</td>\n",
       "      <td>5/28/14</td>\n",
       "      <td>5</td>\n",
       "      <td>5675</td>\n",
       "      <td>19</td>\n",
       "      <td>5</td>\n",
       "      <td>35</td>\n",
       "      <td>26</td>\n",
       "      <td>24</td>\n",
       "      <td>2</td>\n",
       "      <td>...</td>\n",
       "      <td>0.37</td>\n",
       "      <td>0.29</td>\n",
       "      <td>0.44</td>\n",
       "      <td>0.6</td>\n",
       "      <td>0.35</td>\n",
       "      <td>0.03</td>\n",
       "      <td>0</td>\n",
       "      <td>0.32</td>\n",
       "      <td>0.89</td>\n",
       "      <td>1</td>\n",
       "    </tr>\n",
       "    <tr>\n",
       "      <th>10317.000017103</th>\n",
       "      <td>5/28/14</td>\n",
       "      <td>5/28/14</td>\n",
       "      <td>6</td>\n",
       "      <td>4015</td>\n",
       "      <td>6</td>\n",
       "      <td>3.5</td>\n",
       "      <td>30</td>\n",
       "      <td>24</td>\n",
       "      <td>32</td>\n",
       "      <td>31</td>\n",
       "      <td>...</td>\n",
       "      <td>0.8</td>\n",
       "      <td>0.5</td>\n",
       "      <td>0.54</td>\n",
       "      <td>0.65</td>\n",
       "      <td>0.55</td>\n",
       "      <td>0.49</td>\n",
       "      <td>0.48</td>\n",
       "      <td>0.82</td>\n",
       "      <td>0.76</td>\n",
       "      <td>4</td>\n",
       "    </tr>\n",
       "  </tbody>\n",
       "</table>\n",
       "<p>5 rows × 23 columns</p>\n",
       "</div>"
      ],
      "text/plain": [
       "                datesurvey datesampled mm_id surveyid lotr_score swb_score  \\\n",
       "#SampleID                                                                    \n",
       "10317.000017083    5/24/14     5/27/14     1     4453         24       4.5   \n",
       "10317.000017080    5/13/14     5/28/14     3     9801         18       3.5   \n",
       "10317.000017096    5/24/14     5/28/14     4     6619         20       5.5   \n",
       "10317.000017074    5/16/14     5/28/14     5     5675         19         5   \n",
       "10317.000017103    5/28/14     5/28/14     6     4015          6       3.5   \n",
       "\n",
       "                flourish_score panast_posaffect_score panast_negaffect_score  \\\n",
       "#SampleID                                                                      \n",
       "10317.000017083             48                     26                     16   \n",
       "10317.000017080             56                     46                     24   \n",
       "10317.000017096             48                     36                     26   \n",
       "10317.000017074             35                     26                     24   \n",
       "10317.000017103             30                     24                     32   \n",
       "\n",
       "                bdi21_score       ...       norm_lotr_score norm_swb_score  \\\n",
       "#SampleID                         ...                                        \n",
       "10317.000017083           6       ...                   0.2           0.36   \n",
       "10317.000017080           1       ...                   0.4            0.5   \n",
       "10317.000017096           1       ...                  0.33           0.21   \n",
       "10317.000017074           2       ...                  0.37           0.29   \n",
       "10317.000017103          31       ...                   0.8            0.5   \n",
       "\n",
       "                norm_flourish_score norm_panast_posaffect_score  \\\n",
       "#SampleID                                                         \n",
       "10317.000017083                0.17                         0.6   \n",
       "10317.000017080                   0                         0.1   \n",
       "10317.000017096                0.17                        0.35   \n",
       "10317.000017074                0.44                         0.6   \n",
       "10317.000017103                0.54                        0.65   \n",
       "\n",
       "                norm_panast_negaffect_score norm_bdi21_score norm_lone_score  \\\n",
       "#SampleID                                                                      \n",
       "10317.000017083                        0.15              0.1            0.62   \n",
       "10317.000017080                        0.35             0.02            0.08   \n",
       "10317.000017096                         0.4             0.02            0.02   \n",
       "10317.000017074                        0.35             0.03               0   \n",
       "10317.000017103                        0.55             0.49            0.48   \n",
       "\n",
       "                norm_pss_score norm_staitx_score bin_bdi21_score  \n",
       "#SampleID                                                         \n",
       "10317.000017083           0.36              0.36               1  \n",
       "10317.000017080            0.2              0.53               1  \n",
       "10317.000017096           0.14               0.6               1  \n",
       "10317.000017074           0.32              0.89               1  \n",
       "10317.000017103           0.82              0.76               4  \n",
       "\n",
       "[5 rows x 23 columns]"
      ]
     },
     "execution_count": 10,
     "metadata": {},
     "output_type": "execute_result"
    }
   ],
   "source": [
    "mm.head(5)"
   ]
  },
  {
   "cell_type": "code",
   "execution_count": 11,
   "metadata": {
    "collapsed": false
   },
   "outputs": [],
   "source": [
    "notmm=[]\n",
    "for idx in ag_all.index:\n",
    "    if idx not in list(mm.index):\n",
    "        notmm.append(idx)\n",
    "ag_all=ag_all.drop(notmm)"
   ]
  },
  {
   "cell_type": "code",
   "execution_count": 12,
   "metadata": {
    "collapsed": false
   },
   "outputs": [
    {
     "data": {
      "text/plain": [
       "(278, 486)"
      ]
     },
     "execution_count": 12,
     "metadata": {},
     "output_type": "execute_result"
    }
   ],
   "source": [
    "ag_w_mm_scores=pd.concat([ag_all, mm], axis=1, join='inner')\n",
    "ag_w_mm_scores.shape"
   ]
  },
  {
   "cell_type": "markdown",
   "metadata": {},
   "source": [
    "So now we have a metadata file with 278 samples (267 from MM + 11 from cornell)"
   ]
  },
  {
   "cell_type": "code",
   "execution_count": 13,
   "metadata": {
    "collapsed": false
   },
   "outputs": [
    {
     "name": "stdout",
     "output_type": "stream",
     "text": [
      "The MM samples which are not included currently are:\n",
      "10317.000026117\n",
      "10317.000030767\n",
      "10317.000017363\n",
      "10317.000017365\n",
      "10317.000017366\n",
      "10317.000017374\n",
      "10317.000017376\n",
      "10317.000017377\n",
      "10317.000017388\n",
      "10317.000017389\n",
      "10317.000017390\n",
      "10317.000017407\n"
     ]
    }
   ],
   "source": [
    "mm_samples=list(mm.index)\n",
    "overlapped_samples=list(ag_w_mm_scores.index)\n",
    "c=0\n",
    "print(\"The MM samples which are not included currently are:\")\n",
    "for samp in mm_samples:\n",
    "    if samp not in overlapped_samples:\n",
    "        print samp"
   ]
  },
  {
   "cell_type": "code",
   "execution_count": 15,
   "metadata": {
    "collapsed": false
   },
   "outputs": [],
   "source": [
    "ag_w_mm_scores.head(5)\n",
    "ag_w_mm_scores=ag_w_mm_scores.reset_index()"
   ]
  },
  {
   "cell_type": "code",
   "execution_count": 16,
   "metadata": {
    "collapsed": false
   },
   "outputs": [],
   "source": [
    "ag_w_mm_scores.to_csv(\"../data/ag278_w_scores.txt\", sep='\\t')"
   ]
  }
 ],
 "metadata": {
  "anaconda-cloud": {},
  "kernelspec": {
   "display_name": "Python [Root]",
   "language": "python",
   "name": "Python [Root]"
  },
  "language_info": {
   "codemirror_mode": {
    "name": "ipython",
    "version": 2
   },
   "file_extension": ".py",
   "mimetype": "text/x-python",
   "name": "python",
   "nbconvert_exporter": "python",
   "pygments_lexer": "ipython2",
   "version": "2.7.11"
  }
 },
 "nbformat": 4,
 "nbformat_minor": 0
}
